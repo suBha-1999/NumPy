{
  "nbformat": 4,
  "nbformat_minor": 0,
  "metadata": {
    "colab": {
      "provenance": []
    },
    "kernelspec": {
      "name": "python3",
      "display_name": "Python 3"
    },
    "language_info": {
      "name": "python"
    }
  },
  "cells": [
    {
      "cell_type": "markdown",
      "source": [
        "# **Numpy Array Functions**\n",
        "\n",
        "## np.max(arr, axis)\n",
        "## np.min(arr, axis)\n",
        "## np.sum(arr, axis)\n",
        "## np.prod(arr, axis)\n",
        "## axis for >1D array for selecting row(1)/col(0)"
      ],
      "metadata": {
        "id": "ZHP_OP6XnLdV"
      }
    },
    {
      "cell_type": "code",
      "execution_count": 4,
      "metadata": {
        "id": "7XKZy1rxnGD9"
      },
      "outputs": [],
      "source": [
        "import numpy as np\n",
        "\n",
        "\n",
        "a1 = np.random.random((3, 3))\n",
        "a1 = np.round(a1 * 100)"
      ]
    },
    {
      "cell_type": "code",
      "source": [
        "a1"
      ],
      "metadata": {
        "colab": {
          "base_uri": "https://localhost:8080/"
        },
        "id": "PvVcmhjGoKZX",
        "outputId": "4e9b7845-ce8d-4a7f-8816-2ed603b408e0"
      },
      "execution_count": 5,
      "outputs": [
        {
          "output_type": "execute_result",
          "data": {
            "text/plain": [
              "array([[73., 38., 84.],\n",
              "       [77., 43., 30.],\n",
              "       [12., 33., 10.]])"
            ]
          },
          "metadata": {},
          "execution_count": 5
        }
      ]
    },
    {
      "cell_type": "code",
      "source": [
        "# np.max()\n",
        "\n",
        "print(np.max(a1)) #find maximum from your total array"
      ],
      "metadata": {
        "colab": {
          "base_uri": "https://localhost:8080/"
        },
        "id": "nEZw3rkNsDux",
        "outputId": "f5ee1eb4-9335-49f4-e49f-365064c0af7f"
      },
      "execution_count": 12,
      "outputs": [
        {
          "output_type": "stream",
          "name": "stdout",
          "text": [
            "84.0\n"
          ]
        }
      ]
    },
    {
      "cell_type": "code",
      "source": [
        "print(np.max(a1, axis=0))  #find max from each column"
      ],
      "metadata": {
        "colab": {
          "base_uri": "https://localhost:8080/"
        },
        "id": "3UfxajLGogpS",
        "outputId": "9321b775-f9f7-45cd-9cb5-cd34bcc730bd"
      },
      "execution_count": 10,
      "outputs": [
        {
          "output_type": "stream",
          "name": "stdout",
          "text": [
            "[77. 43. 84.]\n"
          ]
        }
      ]
    },
    {
      "cell_type": "code",
      "source": [
        "# np.min()\n",
        "\n",
        "print(np.min(a1))  #find minimum from your total array"
      ],
      "metadata": {
        "colab": {
          "base_uri": "https://localhost:8080/"
        },
        "id": "iwqpG7Mepj_C",
        "outputId": "7980ec9d-abc6-43a5-a3f8-d9669f5ba35a"
      },
      "execution_count": 13,
      "outputs": [
        {
          "output_type": "stream",
          "name": "stdout",
          "text": [
            "10.0\n"
          ]
        }
      ]
    },
    {
      "cell_type": "code",
      "source": [
        "print(np.min(a1, axis=1))   #find minimun from each row"
      ],
      "metadata": {
        "colab": {
          "base_uri": "https://localhost:8080/"
        },
        "id": "YRHFXOZjoxvV",
        "outputId": "a25bf84d-979c-4ff7-b62a-e56fa8ed4bd4"
      },
      "execution_count": 11,
      "outputs": [
        {
          "output_type": "stream",
          "name": "stdout",
          "text": [
            "[38. 30. 10.]\n"
          ]
        }
      ]
    },
    {
      "cell_type": "code",
      "source": [
        "#  np.prod()\n",
        "\n",
        "print(np.prod(a1)) #gives total product of entire array"
      ],
      "metadata": {
        "colab": {
          "base_uri": "https://localhost:8080/"
        },
        "id": "JRF5WmhRs55U",
        "outputId": "c2bacb4a-d8da-4e60-f7f2-d8ce1ef19472"
      },
      "execution_count": 14,
      "outputs": [
        {
          "output_type": "stream",
          "name": "stdout",
          "text": [
            "91656097948800.0\n"
          ]
        }
      ]
    },
    {
      "cell_type": "code",
      "source": [
        "print(np.prod(a1, axis=1)) #gives total product of each row"
      ],
      "metadata": {
        "colab": {
          "base_uri": "https://localhost:8080/"
        },
        "id": "MDaGFM7gta4c",
        "outputId": "1be22c3d-62e9-426f-d88f-528deb93faba"
      },
      "execution_count": 15,
      "outputs": [
        {
          "output_type": "stream",
          "name": "stdout",
          "text": [
            "[233016.  99330.   3960.]\n"
          ]
        }
      ]
    },
    {
      "cell_type": "code",
      "source": [
        "#  np.sum()\n",
        "\n",
        "print(np.sum(a1))"
      ],
      "metadata": {
        "colab": {
          "base_uri": "https://localhost:8080/"
        },
        "id": "ShRXsnjittnh",
        "outputId": "008bf9c0-9c48-47a9-c4c3-d13ce2bcbfa3"
      },
      "execution_count": 16,
      "outputs": [
        {
          "output_type": "stream",
          "name": "stdout",
          "text": [
            "400.0\n"
          ]
        }
      ]
    },
    {
      "cell_type": "code",
      "source": [
        "print(np.sum(a1, axis=0))  #gives total summation of each col"
      ],
      "metadata": {
        "colab": {
          "base_uri": "https://localhost:8080/"
        },
        "id": "y16uZ4qRt5Fl",
        "outputId": "8a5c5c36-32c8-45d7-9e5e-450aca32075f"
      },
      "execution_count": 19,
      "outputs": [
        {
          "output_type": "stream",
          "name": "stdout",
          "text": [
            "[162. 114. 124.]\n"
          ]
        }
      ]
    },
    {
      "cell_type": "markdown",
      "source": [
        "## Static Operation\n",
        "\n",
        "> Mean\n",
        "\n",
        "> Median\n",
        "\n",
        "> Std\n",
        "\n",
        "> Var\n",
        "\n",
        "\n",
        "\n",
        "\n",
        "\n",
        "\n",
        "\n"
      ],
      "metadata": {
        "id": "FaaunPLRurh7"
      }
    },
    {
      "cell_type": "code",
      "source": [
        "print(np.mean(a1))"
      ],
      "metadata": {
        "colab": {
          "base_uri": "https://localhost:8080/"
        },
        "id": "9Q_b5iZsua8I",
        "outputId": "158a47f8-9704-45c3-9049-babb2575e6ef"
      },
      "execution_count": 21,
      "outputs": [
        {
          "output_type": "stream",
          "name": "stdout",
          "text": [
            "44.44444444444444\n"
          ]
        }
      ]
    },
    {
      "cell_type": "code",
      "source": [
        "print(np.median(a1, axis=0))"
      ],
      "metadata": {
        "colab": {
          "base_uri": "https://localhost:8080/"
        },
        "id": "mYv8apd5vVMZ",
        "outputId": "b0c257a5-0332-4b31-a890-a7bead5d1449"
      },
      "execution_count": 22,
      "outputs": [
        {
          "output_type": "stream",
          "name": "stdout",
          "text": [
            "[73. 38. 30.]\n"
          ]
        }
      ]
    },
    {
      "cell_type": "code",
      "source": [
        "print(np.var(a1))"
      ],
      "metadata": {
        "colab": {
          "base_uri": "https://localhost:8080/"
        },
        "id": "o1U-spmrvgmM",
        "outputId": "af94c131-8640-4496-d3be-fc51be2a7192"
      },
      "execution_count": 24,
      "outputs": [
        {
          "output_type": "stream",
          "name": "stdout",
          "text": [
            "673.5802469135801\n"
          ]
        }
      ]
    },
    {
      "cell_type": "markdown",
      "source": [
        "## Trigonometric Function\n",
        "\n",
        "\n",
        "> Sin\n",
        "\n",
        "> Cos\n",
        "\n",
        "\n",
        "\n"
      ],
      "metadata": {
        "id": "faemS9u_wBsG"
      }
    },
    {
      "cell_type": "code",
      "source": [
        "np.sin(a1)  #give sin value of each element"
      ],
      "metadata": {
        "colab": {
          "base_uri": "https://localhost:8080/"
        },
        "id": "2h5O5gSLvlpu",
        "outputId": "9d6c5ead-5db7-4111-ff36-55ceb345bfb3"
      },
      "execution_count": 29,
      "outputs": [
        {
          "output_type": "execute_result",
          "data": {
            "text/plain": [
              "array([[-0.67677196,  0.29636858,  0.73319032],\n",
              "       [ 0.99952016, -0.83177474, -0.98803162],\n",
              "       [-0.53657292,  0.99991186, -0.54402111]])"
            ]
          },
          "metadata": {},
          "execution_count": 29
        }
      ]
    },
    {
      "cell_type": "code",
      "source": [
        "np.cos(a1[:, 1]) #cosent value of coloum 1"
      ],
      "metadata": {
        "colab": {
          "base_uri": "https://localhost:8080/"
        },
        "id": "ePt810yRGj9g",
        "outputId": "86ae0a86-c2c3-40e8-d0c4-9e4046396505"
      },
      "execution_count": 30,
      "outputs": [
        {
          "output_type": "execute_result",
          "data": {
            "text/plain": [
              "array([ 0.95507364,  0.5551133 , -0.01327675])"
            ]
          },
          "metadata": {},
          "execution_count": 30
        }
      ]
    },
    {
      "cell_type": "markdown",
      "source": [
        "# Dot Product\n",
        "\n",
        "## in dot product within two matrix's one's row need to match other's coloum, then dot product going to happened"
      ],
      "metadata": {
        "id": "B2ewXZFrG7sm"
      }
    },
    {
      "cell_type": "code",
      "source": [
        "a2 = np.arange(12).reshape(3,4)\n",
        "a3 = np.arange(12,24).reshape(4,3)"
      ],
      "metadata": {
        "id": "gKwEAw00HEPZ"
      },
      "execution_count": 32,
      "outputs": []
    },
    {
      "cell_type": "code",
      "source": [
        "a4 = np.dot(a2,a3)\n",
        "a4"
      ],
      "metadata": {
        "colab": {
          "base_uri": "https://localhost:8080/"
        },
        "id": "JbXJ2cZAHT0V",
        "outputId": "8faf0834-9add-4d59-ee72-7f8829548271"
      },
      "execution_count": 39,
      "outputs": [
        {
          "output_type": "execute_result",
          "data": {
            "text/plain": [
              "array([[114, 120, 126],\n",
              "       [378, 400, 422],\n",
              "       [642, 680, 718]])"
            ]
          },
          "metadata": {},
          "execution_count": 39
        }
      ]
    },
    {
      "cell_type": "code",
      "source": [
        "np.shape(a4)"
      ],
      "metadata": {
        "colab": {
          "base_uri": "https://localhost:8080/"
        },
        "id": "1TN8PJKdHkni",
        "outputId": "85fb886b-967d-4efd-eeeb-abe4c930d732"
      },
      "execution_count": 40,
      "outputs": [
        {
          "output_type": "execute_result",
          "data": {
            "text/plain": [
              "(3, 3)"
            ]
          },
          "metadata": {},
          "execution_count": 40
        }
      ]
    },
    {
      "cell_type": "markdown",
      "source": [
        "# Round / Floor / Ceil"
      ],
      "metadata": {
        "id": "Rx8pMbpAIZIL"
      }
    },
    {
      "cell_type": "code",
      "source": [
        "a5 = np.random.random((3, 2)) * 100"
      ],
      "metadata": {
        "id": "hECHCi_-ItxJ"
      },
      "execution_count": 44,
      "outputs": []
    },
    {
      "cell_type": "code",
      "source": [
        "a5"
      ],
      "metadata": {
        "colab": {
          "base_uri": "https://localhost:8080/"
        },
        "id": "4YkdX6o4JBam",
        "outputId": "2652adc9-7b9d-4a0b-b7b3-87cb53da33f7"
      },
      "execution_count": 45,
      "outputs": [
        {
          "output_type": "execute_result",
          "data": {
            "text/plain": [
              "array([[51.37287168, 17.28151061],\n",
              "       [84.7615759 , 78.2685985 ],\n",
              "       [ 5.74385277, 40.83803883]])"
            ]
          },
          "metadata": {},
          "execution_count": 45
        }
      ]
    },
    {
      "cell_type": "code",
      "source": [
        "np.round(a5)  # Always roundoff the array element's value"
      ],
      "metadata": {
        "colab": {
          "base_uri": "https://localhost:8080/"
        },
        "id": "uEOg4rCFJESW",
        "outputId": "69f2be9b-a98b-4dbb-96c1-f16ed82c3b2a"
      },
      "execution_count": 46,
      "outputs": [
        {
          "output_type": "execute_result",
          "data": {
            "text/plain": [
              "array([[51., 17.],\n",
              "       [85., 78.],\n",
              "       [ 6., 41.]])"
            ]
          },
          "metadata": {},
          "execution_count": 46
        }
      ]
    },
    {
      "cell_type": "code",
      "source": [
        "np.floor(a5)  #Always take lower bound of decimal value"
      ],
      "metadata": {
        "colab": {
          "base_uri": "https://localhost:8080/"
        },
        "id": "fvdA0v_yJMIZ",
        "outputId": "4657feea-02a8-475a-efe4-1851079ec37a"
      },
      "execution_count": 47,
      "outputs": [
        {
          "output_type": "execute_result",
          "data": {
            "text/plain": [
              "array([[51., 17.],\n",
              "       [84., 78.],\n",
              "       [ 5., 40.]])"
            ]
          },
          "metadata": {},
          "execution_count": 47
        }
      ]
    },
    {
      "cell_type": "code",
      "source": [
        "np.ceil(a5)  #Always take upeer bound of decimal value"
      ],
      "metadata": {
        "colab": {
          "base_uri": "https://localhost:8080/"
        },
        "id": "bE5qejIZJTAj",
        "outputId": "fabdeb23-b39f-46f5-8273-95fc21f73eb2"
      },
      "execution_count": 48,
      "outputs": [
        {
          "output_type": "execute_result",
          "data": {
            "text/plain": [
              "array([[52., 18.],\n",
              "       [85., 79.],\n",
              "       [ 6., 41.]])"
            ]
          },
          "metadata": {},
          "execution_count": 48
        }
      ]
    }
  ]
}