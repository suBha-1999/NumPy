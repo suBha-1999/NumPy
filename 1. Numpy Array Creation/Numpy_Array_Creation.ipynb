{
  "nbformat": 4,
  "nbformat_minor": 0,
  "metadata": {
    "colab": {
      "provenance": []
    },
    "kernelspec": {
      "name": "python3",
      "display_name": "Python 3"
    },
    "language_info": {
      "name": "python"
    }
  },
  "cells": [
    {
      "cell_type": "code",
      "execution_count": 1,
      "metadata": {
        "id": "DgddaaNa3zTc"
      },
      "outputs": [],
      "source": [
        "import numpy as np\n"
      ]
    },
    {
      "cell_type": "markdown",
      "source": [
        "# **Array Creation in Numpy**"
      ],
      "metadata": {
        "id": "KOqJp-uo4WTs"
      }
    },
    {
      "cell_type": "markdown",
      "source": [
        "## 1) np.array([List])"
      ],
      "metadata": {
        "id": "rAB6WrAn5sos"
      }
    },
    {
      "cell_type": "code",
      "source": [
        "#Using np.array([List]) --> 1D\n",
        "m = np.array([8,5,4,3,5])\n",
        "m"
      ],
      "metadata": {
        "colab": {
          "base_uri": "https://localhost:8080/"
        },
        "id": "EGQYCHCY35Yl",
        "outputId": "64516475-cac3-40ea-fb31-b093591ebeac"
      },
      "execution_count": 7,
      "outputs": [
        {
          "output_type": "execute_result",
          "data": {
            "text/plain": [
              "array([8, 5, 4, 3, 5])"
            ]
          },
          "metadata": {},
          "execution_count": 7
        }
      ]
    },
    {
      "cell_type": "code",
      "source": [
        "# #Using np.array([List]) --> 2D\n",
        "n = np.array([[7,8,9,4],[5,6,1,2]])\n",
        "n"
      ],
      "metadata": {
        "colab": {
          "base_uri": "https://localhost:8080/"
        },
        "id": "66NoCrWL4QmZ",
        "outputId": "e9a3c7fb-6515-47c2-a789-9b7198a61d9c"
      },
      "execution_count": 8,
      "outputs": [
        {
          "output_type": "execute_result",
          "data": {
            "text/plain": [
              "array([[7, 8, 9, 4],\n",
              "       [5, 6, 1, 2]])"
            ]
          },
          "metadata": {},
          "execution_count": 8
        }
      ]
    },
    {
      "cell_type": "code",
      "source": [
        "# #Using np.array([List]) --> 3D\n",
        "o = np.array([[7,8,9,4],[5,6,1,2],[10,11,12,13]])\n",
        "o"
      ],
      "metadata": {
        "colab": {
          "base_uri": "https://localhost:8080/"
        },
        "id": "PJjNUyeE5eQe",
        "outputId": "b52e02b2-5de3-4eee-debe-9a3e0536ca41"
      },
      "execution_count": 9,
      "outputs": [
        {
          "output_type": "execute_result",
          "data": {
            "text/plain": [
              "array([[ 7,  8,  9,  4],\n",
              "       [ 5,  6,  1,  2],\n",
              "       [10, 11, 12, 13]])"
            ]
          },
          "metadata": {},
          "execution_count": 9
        }
      ]
    },
    {
      "cell_type": "markdown",
      "source": [
        "## 2) np.arange(included, excluded, step)"
      ],
      "metadata": {
        "id": "nO_2ZjmV5-nn"
      }
    },
    {
      "cell_type": "code",
      "source": [
        "m = np.arange(0,10)\n",
        "m"
      ],
      "metadata": {
        "colab": {
          "base_uri": "https://localhost:8080/"
        },
        "id": "9md8u7iM6Rht",
        "outputId": "ae9586c3-5e1e-47ba-815c-4892268573e7"
      },
      "execution_count": 10,
      "outputs": [
        {
          "output_type": "execute_result",
          "data": {
            "text/plain": [
              "array([0, 1, 2, 3, 4, 5, 6, 7, 8, 9])"
            ]
          },
          "metadata": {},
          "execution_count": 10
        }
      ]
    },
    {
      "cell_type": "code",
      "source": [
        "n = np.arange(0,10,2)\n",
        "n\n"
      ],
      "metadata": {
        "colab": {
          "base_uri": "https://localhost:8080/"
        },
        "id": "c8WjWI5S6azM",
        "outputId": "18156ba0-9312-4f66-b74f-9066c49d47d3"
      },
      "execution_count": 11,
      "outputs": [
        {
          "output_type": "execute_result",
          "data": {
            "text/plain": [
              "array([0, 2, 4, 6, 8])"
            ]
          },
          "metadata": {},
          "execution_count": 11
        }
      ]
    },
    {
      "cell_type": "markdown",
      "source": [
        "# You can use .reshape(row, col)"
      ],
      "metadata": {
        "id": "74PscYWk63zg"
      }
    },
    {
      "cell_type": "code",
      "source": [
        "arr = np.arange(1,9).reshape(4,2)\n",
        "arr"
      ],
      "metadata": {
        "colab": {
          "base_uri": "https://localhost:8080/"
        },
        "id": "q1N8knGz7RLx",
        "outputId": "0827fdd2-ce04-430e-b73a-8abc92aaacfe"
      },
      "execution_count": 15,
      "outputs": [
        {
          "output_type": "execute_result",
          "data": {
            "text/plain": [
              "array([[1, 2],\n",
              "       [3, 4],\n",
              "       [5, 6],\n",
              "       [7, 8]])"
            ]
          },
          "metadata": {},
          "execution_count": 15
        }
      ]
    },
    {
      "cell_type": "markdown",
      "source": [
        "## 3) np.zeros(size) and np.ones(size)"
      ],
      "metadata": {
        "id": "rWMm62LE7yQy"
      }
    },
    {
      "cell_type": "code",
      "source": [
        "#1D\n",
        "A = np.zeros(5, dtype = np.int8)\n",
        "A"
      ],
      "metadata": {
        "colab": {
          "base_uri": "https://localhost:8080/"
        },
        "id": "xNZOBULA9Qmn",
        "outputId": "885bc6e1-8dc5-4f8f-ce0d-f1dcace2962d"
      },
      "execution_count": 25,
      "outputs": [
        {
          "output_type": "execute_result",
          "data": {
            "text/plain": [
              "array([0, 0, 0, 0, 0], dtype=int8)"
            ]
          },
          "metadata": {},
          "execution_count": 25
        }
      ]
    },
    {
      "cell_type": "code",
      "source": [
        "#2D\n",
        "A = np.zeros((5,5), dtype = np.int8)\n",
        "A"
      ],
      "metadata": {
        "colab": {
          "base_uri": "https://localhost:8080/"
        },
        "id": "v5zXV44N7hCQ",
        "outputId": "5a153ddf-6443-4392-db30-f243789f20b9"
      },
      "execution_count": 24,
      "outputs": [
        {
          "output_type": "execute_result",
          "data": {
            "text/plain": [
              "array([[0, 0, 0, 0, 0],\n",
              "       [0, 0, 0, 0, 0],\n",
              "       [0, 0, 0, 0, 0],\n",
              "       [0, 0, 0, 0, 0],\n",
              "       [0, 0, 0, 0, 0]], dtype=int8)"
            ]
          },
          "metadata": {},
          "execution_count": 24
        }
      ]
    },
    {
      "cell_type": "code",
      "source": [
        "#3D\n",
        "A = np.ones((2,3,3), dtype = np.int8)\n",
        "A"
      ],
      "metadata": {
        "colab": {
          "base_uri": "https://localhost:8080/"
        },
        "id": "MSiHa1nO9kaM",
        "outputId": "9e37740c-4b6e-48b9-910a-70474ff8a930"
      },
      "execution_count": 28,
      "outputs": [
        {
          "output_type": "execute_result",
          "data": {
            "text/plain": [
              "array([[[1, 1, 1],\n",
              "        [1, 1, 1],\n",
              "        [1, 1, 1]],\n",
              "\n",
              "       [[1, 1, 1],\n",
              "        [1, 1, 1],\n",
              "        [1, 1, 1]]], dtype=int8)"
            ]
          },
          "metadata": {},
          "execution_count": 28
        }
      ]
    },
    {
      "cell_type": "markdown",
      "source": [
        "## 4) np.linspace(starting range, ending range, no of element need)"
      ],
      "metadata": {
        "id": "dDYN_uR297Ct"
      }
    },
    {
      "cell_type": "code",
      "source": [
        "B = np.linspace(-10, 10, 5, dtype=np.int8)\n",
        "B"
      ],
      "metadata": {
        "colab": {
          "base_uri": "https://localhost:8080/"
        },
        "id": "j1Mj0cwx9qiW",
        "outputId": "f69ca7fd-62fc-43b6-e54b-892901c91a8c"
      },
      "execution_count": 32,
      "outputs": [
        {
          "output_type": "execute_result",
          "data": {
            "text/plain": [
              "array([-10,  -5,   0,   5,  10], dtype=int8)"
            ]
          },
          "metadata": {},
          "execution_count": 32
        }
      ]
    },
    {
      "cell_type": "markdown",
      "source": [
        "## 5) np.random.random(tuple(row,col))"
      ],
      "metadata": {
        "id": "p_sq3Vku-7yk"
      }
    },
    {
      "cell_type": "code",
      "source": [
        "#1D\n",
        "C = np.random.random(5)\n",
        "C"
      ],
      "metadata": {
        "colab": {
          "base_uri": "https://localhost:8080/"
        },
        "id": "SvRS8R1u-T0a",
        "outputId": "9f6ccbff-15d3-46f9-b108-488da5b1e4be"
      },
      "execution_count": 33,
      "outputs": [
        {
          "output_type": "execute_result",
          "data": {
            "text/plain": [
              "array([0.35606219, 0.1550504 , 0.43452715, 0.18296255, 0.63715788])"
            ]
          },
          "metadata": {},
          "execution_count": 33
        }
      ]
    },
    {
      "cell_type": "code",
      "source": [
        "#2D\n",
        "C = np.random.random((5,3))\n",
        "C"
      ],
      "metadata": {
        "colab": {
          "base_uri": "https://localhost:8080/"
        },
        "id": "OfOcRgDV_SYr",
        "outputId": "384b2407-722c-41b1-95fa-e06370b749df"
      },
      "execution_count": 34,
      "outputs": [
        {
          "output_type": "execute_result",
          "data": {
            "text/plain": [
              "array([[0.99510993, 0.20503838, 0.91566174],\n",
              "       [0.37292153, 0.0229443 , 0.26849226],\n",
              "       [0.48758952, 0.88285224, 0.40801777],\n",
              "       [0.35475561, 0.97630888, 0.35895687],\n",
              "       [0.1814566 , 0.61406707, 0.93997554]])"
            ]
          },
          "metadata": {},
          "execution_count": 34
        }
      ]
    },
    {
      "cell_type": "code",
      "source": [
        "#3D\n",
        "D = np.random.random((2,3,2))\n",
        "D"
      ],
      "metadata": {
        "colab": {
          "base_uri": "https://localhost:8080/"
        },
        "id": "koJ46lbq_cjN",
        "outputId": "03b43c6f-5237-4e7e-93d9-86eadce3daec"
      },
      "execution_count": 36,
      "outputs": [
        {
          "output_type": "execute_result",
          "data": {
            "text/plain": [
              "array([[[0.64100094, 0.23863755],\n",
              "        [0.21310498, 0.83057691],\n",
              "        [0.98782197, 0.39559408]],\n",
              "\n",
              "       [[0.55239403, 0.88885545],\n",
              "        [0.38372563, 0.89463595],\n",
              "        [0.6923798 , 0.94472704]]])"
            ]
          },
          "metadata": {},
          "execution_count": 36
        }
      ]
    },
    {
      "cell_type": "markdown",
      "source": [
        "## 6) np.identity(size)"
      ],
      "metadata": {
        "id": "EqmBs55yAKAK"
      }
    },
    {
      "cell_type": "code",
      "source": [
        "E = np,np.identity(5)\n",
        "E"
      ],
      "metadata": {
        "colab": {
          "base_uri": "https://localhost:8080/"
        },
        "id": "sAPuiqR5_oSJ",
        "outputId": "3bbee115-2a31-47af-8b68-3807053ceadd"
      },
      "execution_count": 39,
      "outputs": [
        {
          "output_type": "execute_result",
          "data": {
            "text/plain": [
              "(<module 'numpy' from '/usr/local/lib/python3.11/dist-packages/numpy/__init__.py'>,\n",
              " array([[1., 0., 0., 0., 0.],\n",
              "        [0., 1., 0., 0., 0.],\n",
              "        [0., 0., 1., 0., 0.],\n",
              "        [0., 0., 0., 1., 0.],\n",
              "        [0., 0., 0., 0., 1.]]))"
            ]
          },
          "metadata": {},
          "execution_count": 39
        }
      ]
    },
    {
      "cell_type": "code",
      "source": [],
      "metadata": {
        "id": "SEtZjApeASqW"
      },
      "execution_count": null,
      "outputs": []
    }
  ]
}